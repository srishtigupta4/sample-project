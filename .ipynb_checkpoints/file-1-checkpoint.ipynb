{
 "cells": [
  {
   "cell_type": "markdown",
   "id": "4d365a85-09a2-4765-9dfa-5e440f9ea96b",
   "metadata": {},
   "source": [
    "This is a header print something on the cell below"
   ]
  },
  {
   "cell_type": "code",
   "execution_count": null,
   "id": "41ce19b7-3145-4296-a7f7-57c86241e057",
   "metadata": {},
   "outputs": [],
   "source": []
  }
 ],
 "metadata": {
  "kernelspec": {
   "display_name": "Python 3 (ipykernel)",
   "language": "python",
   "name": "python3"
  },
  "language_info": {
   "codemirror_mode": {
    "name": "ipython",
    "version": 3
   },
   "file_extension": ".py",
   "mimetype": "text/x-python",
   "name": "python",
   "nbconvert_exporter": "python",
   "pygments_lexer": "ipython3",
   "version": "3.13.0"
  }
 },
 "nbformat": 4,
 "nbformat_minor": 5
}
